{
 "cells": [
  {
   "cell_type": "code",
   "execution_count": 66,
   "id": "dc7d6068",
   "metadata": {},
   "outputs": [],
   "source": [
    "import warnings\n",
    "warnings.filterwarnings('ignore')\n",
    "\n",
    "%matplotlib inline\n",
    "import matplotlib.pyplot as plt\n",
    "import numpy as np\n",
    "import pandas as pd\n",
    "import seaborn as sns\n",
    "sns.set()\n",
    "\n",
    "\n",
    "from sklearn.model_selection import train_test_split\n",
    "from sklearn.metrics import accuracy_score\n",
    "from sklearn import metrics\n",
    "from sklearn.naive_bayes import GaussianNB\n",
    "from sklearn.impute import SimpleImputer\n",
    "from sklearn.model_selection import cross_val_score\n",
    "from sklearn.neighbors import KNeighborsClassifier"
   ]
  },
  {
   "cell_type": "markdown",
   "id": "e65f5a95",
   "metadata": {},
   "source": [
    "Откройте уже спарсенный и готовый для работы датасет «data.csv». "
   ]
  },
  {
   "cell_type": "code",
   "execution_count": 53,
   "id": "ce011dab",
   "metadata": {},
   "outputs": [
    {
     "data": {
      "text/html": [
       "<div>\n",
       "<style scoped>\n",
       "    .dataframe tbody tr th:only-of-type {\n",
       "        vertical-align: middle;\n",
       "    }\n",
       "\n",
       "    .dataframe tbody tr th {\n",
       "        vertical-align: top;\n",
       "    }\n",
       "\n",
       "    .dataframe thead th {\n",
       "        text-align: right;\n",
       "    }\n",
       "</style>\n",
       "<table border=\"1\" class=\"dataframe\">\n",
       "  <thead>\n",
       "    <tr style=\"text-align: right;\">\n",
       "      <th></th>\n",
       "      <th>job_title</th>\n",
       "      <th>hh_title</th>\n",
       "      <th>age</th>\n",
       "      <th>salary</th>\n",
       "      <th>exp. period</th>\n",
       "      <th>title of exp.</th>\n",
       "    </tr>\n",
       "  </thead>\n",
       "  <tbody>\n",
       "    <tr>\n",
       "      <th>0</th>\n",
       "      <td>data analyst</td>\n",
       "      <td>Data analyst</td>\n",
       "      <td>22.0</td>\n",
       "      <td>NaN</td>\n",
       "      <td>2.67</td>\n",
       "      <td>Data Analyst</td>\n",
       "    </tr>\n",
       "    <tr>\n",
       "      <th>1</th>\n",
       "      <td>data analyst</td>\n",
       "      <td>Data Analyst</td>\n",
       "      <td>21.0</td>\n",
       "      <td>NaN</td>\n",
       "      <td>0.83</td>\n",
       "      <td>Junior Data Analyst</td>\n",
       "    </tr>\n",
       "    <tr>\n",
       "      <th>2</th>\n",
       "      <td>data analyst</td>\n",
       "      <td>Data Analyst</td>\n",
       "      <td>30.0</td>\n",
       "      <td>NaN</td>\n",
       "      <td>7.50</td>\n",
       "      <td>Data Analyst</td>\n",
       "    </tr>\n",
       "    <tr>\n",
       "      <th>3</th>\n",
       "      <td>data analyst</td>\n",
       "      <td>Data Analyst</td>\n",
       "      <td>24.0</td>\n",
       "      <td>NaN</td>\n",
       "      <td>4.92</td>\n",
       "      <td>Data Analyst</td>\n",
       "    </tr>\n",
       "    <tr>\n",
       "      <th>4</th>\n",
       "      <td>data analyst</td>\n",
       "      <td>Data Analyst</td>\n",
       "      <td>27.0</td>\n",
       "      <td>450000.0</td>\n",
       "      <td>3.25</td>\n",
       "      <td>Business Intelligence Analyst</td>\n",
       "    </tr>\n",
       "  </tbody>\n",
       "</table>\n",
       "</div>"
      ],
      "text/plain": [
       "      job_title      hh_title   age    salary  exp. period  \\\n",
       "0  data analyst  Data analyst  22.0       NaN         2.67   \n",
       "1  data analyst  Data Analyst  21.0       NaN         0.83   \n",
       "2  data analyst  Data Analyst  30.0       NaN         7.50   \n",
       "3  data analyst  Data Analyst  24.0       NaN         4.92   \n",
       "4  data analyst  Data Analyst  27.0  450000.0         3.25   \n",
       "\n",
       "                   title of exp.  \n",
       "0                   Data Analyst  \n",
       "1            Junior Data Analyst  \n",
       "2                   Data Analyst  \n",
       "3                   Data Analyst  \n",
       "4  Business Intelligence Analyst  "
      ]
     },
     "execution_count": 53,
     "metadata": {},
     "output_type": "execute_result"
    }
   ],
   "source": [
    "df = pd.read_csv(\"data.csv\", encoding='Windows-1251')\n",
    "df.head()"
   ]
  },
  {
   "cell_type": "markdown",
   "id": "cc3d3e6c",
   "metadata": {},
   "source": [
    "Мы будем работать только со столбцами ['job_title', 'age', 'salary', 'exp. period']. Сохраните только их."
   ]
  },
  {
   "cell_type": "code",
   "execution_count": 54,
   "id": "5095d067",
   "metadata": {},
   "outputs": [
    {
     "data": {
      "text/html": [
       "<div>\n",
       "<style scoped>\n",
       "    .dataframe tbody tr th:only-of-type {\n",
       "        vertical-align: middle;\n",
       "    }\n",
       "\n",
       "    .dataframe tbody tr th {\n",
       "        vertical-align: top;\n",
       "    }\n",
       "\n",
       "    .dataframe thead th {\n",
       "        text-align: right;\n",
       "    }\n",
       "</style>\n",
       "<table border=\"1\" class=\"dataframe\">\n",
       "  <thead>\n",
       "    <tr style=\"text-align: right;\">\n",
       "      <th></th>\n",
       "      <th>job_title</th>\n",
       "      <th>age</th>\n",
       "      <th>salary</th>\n",
       "      <th>exp. period</th>\n",
       "    </tr>\n",
       "  </thead>\n",
       "  <tbody>\n",
       "    <tr>\n",
       "      <th>0</th>\n",
       "      <td>data analyst</td>\n",
       "      <td>22.0</td>\n",
       "      <td>NaN</td>\n",
       "      <td>2.67</td>\n",
       "    </tr>\n",
       "    <tr>\n",
       "      <th>1</th>\n",
       "      <td>data analyst</td>\n",
       "      <td>21.0</td>\n",
       "      <td>NaN</td>\n",
       "      <td>0.83</td>\n",
       "    </tr>\n",
       "    <tr>\n",
       "      <th>2</th>\n",
       "      <td>data analyst</td>\n",
       "      <td>30.0</td>\n",
       "      <td>NaN</td>\n",
       "      <td>7.50</td>\n",
       "    </tr>\n",
       "    <tr>\n",
       "      <th>3</th>\n",
       "      <td>data analyst</td>\n",
       "      <td>24.0</td>\n",
       "      <td>NaN</td>\n",
       "      <td>4.92</td>\n",
       "    </tr>\n",
       "    <tr>\n",
       "      <th>4</th>\n",
       "      <td>data analyst</td>\n",
       "      <td>27.0</td>\n",
       "      <td>450000.0</td>\n",
       "      <td>3.25</td>\n",
       "    </tr>\n",
       "    <tr>\n",
       "      <th>...</th>\n",
       "      <td>...</td>\n",
       "      <td>...</td>\n",
       "      <td>...</td>\n",
       "      <td>...</td>\n",
       "    </tr>\n",
       "    <tr>\n",
       "      <th>995</th>\n",
       "      <td>sql</td>\n",
       "      <td>51.0</td>\n",
       "      <td>NaN</td>\n",
       "      <td>25.42</td>\n",
       "    </tr>\n",
       "    <tr>\n",
       "      <th>996</th>\n",
       "      <td>sql</td>\n",
       "      <td>22.0</td>\n",
       "      <td>NaN</td>\n",
       "      <td>1.58</td>\n",
       "    </tr>\n",
       "    <tr>\n",
       "      <th>997</th>\n",
       "      <td>sql</td>\n",
       "      <td>42.0</td>\n",
       "      <td>NaN</td>\n",
       "      <td>9.33</td>\n",
       "    </tr>\n",
       "    <tr>\n",
       "      <th>998</th>\n",
       "      <td>sql</td>\n",
       "      <td>NaN</td>\n",
       "      <td>NaN</td>\n",
       "      <td>16.08</td>\n",
       "    </tr>\n",
       "    <tr>\n",
       "      <th>999</th>\n",
       "      <td>sql</td>\n",
       "      <td>19.0</td>\n",
       "      <td>NaN</td>\n",
       "      <td>0.33</td>\n",
       "    </tr>\n",
       "  </tbody>\n",
       "</table>\n",
       "<p>1000 rows × 4 columns</p>\n",
       "</div>"
      ],
      "text/plain": [
       "        job_title   age    salary  exp. period\n",
       "0    data analyst  22.0       NaN         2.67\n",
       "1    data analyst  21.0       NaN         0.83\n",
       "2    data analyst  30.0       NaN         7.50\n",
       "3    data analyst  24.0       NaN         4.92\n",
       "4    data analyst  27.0  450000.0         3.25\n",
       "..            ...   ...       ...          ...\n",
       "995           sql  51.0       NaN        25.42\n",
       "996           sql  22.0       NaN         1.58\n",
       "997           sql  42.0       NaN         9.33\n",
       "998           sql   NaN       NaN        16.08\n",
       "999           sql  19.0       NaN         0.33\n",
       "\n",
       "[1000 rows x 4 columns]"
      ]
     },
     "execution_count": 54,
     "metadata": {},
     "output_type": "execute_result"
    }
   ],
   "source": [
    "sdf = df.loc[:, [\"job_title\", \"age\", \"salary\", \"exp. period\"]]\n",
    "sdf"
   ]
  },
  {
   "cell_type": "code",
   "execution_count": 55,
   "id": "6c274dfe",
   "metadata": {},
   "outputs": [
    {
     "data": {
      "text/plain": [
       "job_title        0\n",
       "age             50\n",
       "salary         706\n",
       "exp. period      0\n",
       "dtype: int64"
      ]
     },
     "execution_count": 55,
     "metadata": {},
     "output_type": "execute_result"
    }
   ],
   "source": [
    "sdf.isnull().sum ()"
   ]
  },
  {
   "cell_type": "code",
   "execution_count": 56,
   "id": "97f69077",
   "metadata": {},
   "outputs": [
    {
     "data": {
      "text/html": [
       "<div>\n",
       "<style scoped>\n",
       "    .dataframe tbody tr th:only-of-type {\n",
       "        vertical-align: middle;\n",
       "    }\n",
       "\n",
       "    .dataframe tbody tr th {\n",
       "        vertical-align: top;\n",
       "    }\n",
       "\n",
       "    .dataframe thead th {\n",
       "        text-align: right;\n",
       "    }\n",
       "</style>\n",
       "<table border=\"1\" class=\"dataframe\">\n",
       "  <thead>\n",
       "    <tr style=\"text-align: right;\">\n",
       "      <th></th>\n",
       "      <th>job_title</th>\n",
       "      <th>age</th>\n",
       "      <th>salary</th>\n",
       "      <th>exp. period</th>\n",
       "    </tr>\n",
       "  </thead>\n",
       "  <tbody>\n",
       "    <tr>\n",
       "      <th>0</th>\n",
       "      <td>data analyst</td>\n",
       "      <td>22.0</td>\n",
       "      <td>300000.0</td>\n",
       "      <td>2.67</td>\n",
       "    </tr>\n",
       "    <tr>\n",
       "      <th>1</th>\n",
       "      <td>data analyst</td>\n",
       "      <td>21.0</td>\n",
       "      <td>300000.0</td>\n",
       "      <td>0.83</td>\n",
       "    </tr>\n",
       "    <tr>\n",
       "      <th>2</th>\n",
       "      <td>data analyst</td>\n",
       "      <td>30.0</td>\n",
       "      <td>300000.0</td>\n",
       "      <td>7.50</td>\n",
       "    </tr>\n",
       "    <tr>\n",
       "      <th>3</th>\n",
       "      <td>data analyst</td>\n",
       "      <td>24.0</td>\n",
       "      <td>300000.0</td>\n",
       "      <td>4.92</td>\n",
       "    </tr>\n",
       "    <tr>\n",
       "      <th>4</th>\n",
       "      <td>data analyst</td>\n",
       "      <td>27.0</td>\n",
       "      <td>450000.0</td>\n",
       "      <td>3.25</td>\n",
       "    </tr>\n",
       "    <tr>\n",
       "      <th>...</th>\n",
       "      <td>...</td>\n",
       "      <td>...</td>\n",
       "      <td>...</td>\n",
       "      <td>...</td>\n",
       "    </tr>\n",
       "    <tr>\n",
       "      <th>995</th>\n",
       "      <td>sql</td>\n",
       "      <td>51.0</td>\n",
       "      <td>1505000.0</td>\n",
       "      <td>25.42</td>\n",
       "    </tr>\n",
       "    <tr>\n",
       "      <th>996</th>\n",
       "      <td>sql</td>\n",
       "      <td>22.0</td>\n",
       "      <td>1505000.0</td>\n",
       "      <td>1.58</td>\n",
       "    </tr>\n",
       "    <tr>\n",
       "      <th>997</th>\n",
       "      <td>sql</td>\n",
       "      <td>42.0</td>\n",
       "      <td>1505000.0</td>\n",
       "      <td>9.33</td>\n",
       "    </tr>\n",
       "    <tr>\n",
       "      <th>998</th>\n",
       "      <td>sql</td>\n",
       "      <td>19.0</td>\n",
       "      <td>1505000.0</td>\n",
       "      <td>16.08</td>\n",
       "    </tr>\n",
       "    <tr>\n",
       "      <th>999</th>\n",
       "      <td>sql</td>\n",
       "      <td>19.0</td>\n",
       "      <td>1505000.0</td>\n",
       "      <td>0.33</td>\n",
       "    </tr>\n",
       "  </tbody>\n",
       "</table>\n",
       "<p>1000 rows × 4 columns</p>\n",
       "</div>"
      ],
      "text/plain": [
       "        job_title   age     salary  exp. period\n",
       "0    data analyst  22.0   300000.0         2.67\n",
       "1    data analyst  21.0   300000.0         0.83\n",
       "2    data analyst  30.0   300000.0         7.50\n",
       "3    data analyst  24.0   300000.0         4.92\n",
       "4    data analyst  27.0   450000.0         3.25\n",
       "..            ...   ...        ...          ...\n",
       "995           sql  51.0  1505000.0        25.42\n",
       "996           sql  22.0  1505000.0         1.58\n",
       "997           sql  42.0  1505000.0         9.33\n",
       "998           sql  19.0  1505000.0        16.08\n",
       "999           sql  19.0  1505000.0         0.33\n",
       "\n",
       "[1000 rows x 4 columns]"
      ]
     },
     "execution_count": 56,
     "metadata": {},
     "output_type": "execute_result"
    }
   ],
   "source": [
    "sdf[\"age\"] = sdf[\"age\"].fillna(sdf.groupby(\"job_title\")[\"age\"].transform(\"last\"))\n",
    "sdf[\"salary\"] = sdf[\"salary\"].fillna(sdf.groupby(\"job_title\")[\"salary\"].transform(\"last\"))\n",
    "sdf"
   ]
  },
  {
   "cell_type": "markdown",
   "id": "f3bbca74",
   "metadata": {},
   "source": [
    "Создайте переменную Х, которая содержит данные датасета без столбца 'job_title'."
   ]
  },
  {
   "cell_type": "code",
   "execution_count": 57,
   "id": "bd6fb949",
   "metadata": {},
   "outputs": [
    {
     "data": {
      "text/html": [
       "<div>\n",
       "<style scoped>\n",
       "    .dataframe tbody tr th:only-of-type {\n",
       "        vertical-align: middle;\n",
       "    }\n",
       "\n",
       "    .dataframe tbody tr th {\n",
       "        vertical-align: top;\n",
       "    }\n",
       "\n",
       "    .dataframe thead th {\n",
       "        text-align: right;\n",
       "    }\n",
       "</style>\n",
       "<table border=\"1\" class=\"dataframe\">\n",
       "  <thead>\n",
       "    <tr style=\"text-align: right;\">\n",
       "      <th></th>\n",
       "      <th>age</th>\n",
       "      <th>salary</th>\n",
       "      <th>exp. period</th>\n",
       "    </tr>\n",
       "  </thead>\n",
       "  <tbody>\n",
       "    <tr>\n",
       "      <th>0</th>\n",
       "      <td>22.0</td>\n",
       "      <td>300000.0</td>\n",
       "      <td>2.67</td>\n",
       "    </tr>\n",
       "    <tr>\n",
       "      <th>1</th>\n",
       "      <td>21.0</td>\n",
       "      <td>300000.0</td>\n",
       "      <td>0.83</td>\n",
       "    </tr>\n",
       "    <tr>\n",
       "      <th>2</th>\n",
       "      <td>30.0</td>\n",
       "      <td>300000.0</td>\n",
       "      <td>7.50</td>\n",
       "    </tr>\n",
       "    <tr>\n",
       "      <th>3</th>\n",
       "      <td>24.0</td>\n",
       "      <td>300000.0</td>\n",
       "      <td>4.92</td>\n",
       "    </tr>\n",
       "    <tr>\n",
       "      <th>4</th>\n",
       "      <td>27.0</td>\n",
       "      <td>450000.0</td>\n",
       "      <td>3.25</td>\n",
       "    </tr>\n",
       "  </tbody>\n",
       "</table>\n",
       "</div>"
      ],
      "text/plain": [
       "    age    salary  exp. period\n",
       "0  22.0  300000.0         2.67\n",
       "1  21.0  300000.0         0.83\n",
       "2  30.0  300000.0         7.50\n",
       "3  24.0  300000.0         4.92\n",
       "4  27.0  450000.0         3.25"
      ]
     },
     "execution_count": 57,
     "metadata": {},
     "output_type": "execute_result"
    }
   ],
   "source": [
    "x = sdf.drop(\"job_title\", axis=1)\n",
    "x.head()"
   ]
  },
  {
   "cell_type": "markdown",
   "id": "422625a3",
   "metadata": {},
   "source": [
    "Создайте переменную y, которая содержит только данные столбца 'job_title'."
   ]
  },
  {
   "cell_type": "code",
   "execution_count": 58,
   "id": "03e244a0",
   "metadata": {},
   "outputs": [
    {
     "data": {
      "text/plain": [
       "0      data analyst\n",
       "1      data analyst\n",
       "2      data analyst\n",
       "3      data analyst\n",
       "4      data analyst\n",
       "           ...     \n",
       "995             sql\n",
       "996             sql\n",
       "997             sql\n",
       "998             sql\n",
       "999             sql\n",
       "Name: job_title, Length: 1000, dtype: object"
      ]
     },
     "execution_count": 58,
     "metadata": {},
     "output_type": "execute_result"
    }
   ],
   "source": [
    "y = sdf[\"job_title\"]\n",
    "y"
   ]
  },
  {
   "cell_type": "markdown",
   "id": "133a8c75",
   "metadata": {},
   "source": [
    "Разделите датасеты Х и у на тренировочные и тестовые, где train_size будет равен 80%. На забудьте\n",
    "использовать функцию stratify."
   ]
  },
  {
   "cell_type": "code",
   "execution_count": 59,
   "id": "dcb66796",
   "metadata": {},
   "outputs": [],
   "source": [
    "xtrain, xtest, ytrain, ytest = train_test_split(x, y, test_size = 0.2, random_state = 1, stratify = y)"
   ]
  },
  {
   "cell_type": "markdown",
   "id": "df9b6358",
   "metadata": {},
   "source": [
    "Обучите сначала модель с помощью алгоритма GaussianNB."
   ]
  },
  {
   "cell_type": "code",
   "execution_count": 60,
   "id": "1d591d41",
   "metadata": {},
   "outputs": [
    {
     "data": {
      "text/plain": [
       "GaussianNB()"
      ]
     },
     "execution_count": 60,
     "metadata": {},
     "output_type": "execute_result"
    }
   ],
   "source": [
    "model = GaussianNB()\n",
    "model.fit(xtrain, ytrain)"
   ]
  },
  {
   "cell_type": "markdown",
   "id": "36b0f488",
   "metadata": {},
   "source": [
    "Протестируйте обученную модель на тестовых данных, и выведите на экран точность модели."
   ]
  },
  {
   "cell_type": "code",
   "execution_count": 61,
   "id": "162557f3",
   "metadata": {},
   "outputs": [],
   "source": [
    "y_model = model.predict(xtest)"
   ]
  },
  {
   "cell_type": "code",
   "execution_count": 62,
   "id": "b43fb696",
   "metadata": {},
   "outputs": [
    {
     "data": {
      "text/plain": [
       "0.655"
      ]
     },
     "execution_count": 62,
     "metadata": {},
     "output_type": "execute_result"
    }
   ],
   "source": [
    "accuracy_score(ytest, y_model)"
   ]
  },
  {
   "cell_type": "markdown",
   "id": "61547d8c",
   "metadata": {},
   "source": [
    "Используйте перекрестную проверку модели. Разбейте данные на десять групп и по очереди\n",
    "используйте каждую из них для оценки обучения модели. Выведите на экран среднюю точность\n",
    "модели."
   ]
  },
  {
   "cell_type": "code",
   "execution_count": 64,
   "id": "2d3836d0",
   "metadata": {},
   "outputs": [],
   "source": [
    "score = cross_val_score(model, x, y, cv = 10)"
   ]
  },
  {
   "cell_type": "code",
   "execution_count": 65,
   "id": "36c68653",
   "metadata": {},
   "outputs": [
    {
     "data": {
      "text/plain": [
       "0.645"
      ]
     },
     "execution_count": 65,
     "metadata": {},
     "output_type": "execute_result"
    }
   ],
   "source": [
    "score.mean()"
   ]
  },
  {
   "cell_type": "markdown",
   "id": "389057c0",
   "metadata": {},
   "source": [
    "Затем обучите модель с помощью алгоритма KNeighborsClassifier с количеством n_neighbors\n",
    "равным 3."
   ]
  },
  {
   "cell_type": "code",
   "execution_count": 68,
   "id": "919616f0",
   "metadata": {},
   "outputs": [
    {
     "data": {
      "text/plain": [
       "KNeighborsClassifier(n_neighbors=3)"
      ]
     },
     "execution_count": 68,
     "metadata": {},
     "output_type": "execute_result"
    }
   ],
   "source": [
    "modelK = KNeighborsClassifier(n_neighbors=3)\n",
    "modelK.fit(xtrain, ytrain)"
   ]
  },
  {
   "cell_type": "markdown",
   "id": "5af92239",
   "metadata": {},
   "source": [
    "Протестируйте обученную модель на тестовых данных, и выведите на экран точность модели."
   ]
  },
  {
   "cell_type": "code",
   "execution_count": 69,
   "id": "026c1bec",
   "metadata": {},
   "outputs": [],
   "source": [
    "y2_model = modelK.predict(xtest)"
   ]
  },
  {
   "cell_type": "code",
   "execution_count": 70,
   "id": "c7302388",
   "metadata": {},
   "outputs": [
    {
     "data": {
      "text/plain": [
       "0.97"
      ]
     },
     "execution_count": 70,
     "metadata": {},
     "output_type": "execute_result"
    }
   ],
   "source": [
    "accuracy_score(ytest, y2_model)"
   ]
  },
  {
   "cell_type": "markdown",
   "id": "22ad9ac2",
   "metadata": {},
   "source": [
    "Используйте перекрестную проверку модели. Разбейте данные на десять групп и по очереди\n",
    "используйте каждую из них для оценки обучения модели. Выведите на экран среднюю точность\n",
    "модели."
   ]
  },
  {
   "cell_type": "code",
   "execution_count": 71,
   "id": "fa6b971c",
   "metadata": {},
   "outputs": [],
   "source": [
    "score = cross_val_score(modelK, x, y, cv = 10)"
   ]
  },
  {
   "cell_type": "code",
   "execution_count": 72,
   "id": "90627a8f",
   "metadata": {},
   "outputs": [
    {
     "data": {
      "text/plain": [
       "0.985"
      ]
     },
     "execution_count": 72,
     "metadata": {},
     "output_type": "execute_result"
    }
   ],
   "source": [
    "score.mean()"
   ]
  },
  {
   "cell_type": "code",
   "execution_count": null,
   "id": "1fb8ba94",
   "metadata": {},
   "outputs": [],
   "source": []
  }
 ],
 "metadata": {
  "kernelspec": {
   "display_name": "Python 3 (ipykernel)",
   "language": "python",
   "name": "python3"
  },
  "language_info": {
   "codemirror_mode": {
    "name": "ipython",
    "version": 3
   },
   "file_extension": ".py",
   "mimetype": "text/x-python",
   "name": "python",
   "nbconvert_exporter": "python",
   "pygments_lexer": "ipython3",
   "version": "3.9.13"
  }
 },
 "nbformat": 4,
 "nbformat_minor": 5
}
